{
 "cells": [
  {
   "cell_type": "code",
   "execution_count": null,
   "id": "772c10f6",
   "metadata": {},
   "outputs": [],
   "source": [
    "#!pip3 install --upgrade openai\n",
    "#!pip3 install pandas\n",
    "#!pip3 install matplotlib\n",
    "#!pip3 install scikit-learn\n",
    "import pandas as pd\n",
    "import numpy as np\n",
    "import matplotlib.pyplot as plt\n",
    "from sklearn.ensemble import RandomForestClassifier\n",
    "\n",
    "from sklearn.model_selection import train_test_split\n",
    "from sklearn.metrics import ConfusionMatrixDisplay\n",
    "#from sklearn.metrics import confusion_matrix,plot_confusion_matrix\n",
    "from sklearn.feature_extraction.text import TfidfVectorizer"
   ]
  },
  {
   "cell_type": "code",
   "execution_count": null,
   "id": "942dc51d",
   "metadata": {},
   "outputs": [],
   "source": [
    "import openai\n",
    "import time\n",
    "openai.api_key = \"ß\"\n"
   ]
  },
  {
   "cell_type": "code",
   "execution_count": null,
   "id": "03f2a4a1",
   "metadata": {},
   "outputs": [],
   "source": [
    "guidance_snippets = []\n",
    "not_guidance_snippets = []\n",
    "\n",
    "guidance_example = \"We expect net charge-offs will average between 3.5% and 3.9% for the full year.\"\n",
    "not_guidance_example = \"we grew new accounts by 23% and loan receivables by 20%.\"\n",
    "\n",
    "for i in range(0,500):\n",
    "    completion = openai.Completion.create(engine=\"text-curie-001\", prompt=guidance_example,max_tokens=240)\n",
    "    guidance_snippets.append(completion.choices[0]['text'])\n",
    "    print('Generating guidance snippet number %i'%(i))\n",
    "    \n",
    "    completion = openai.Completion.create(engine=\"text-curie-001\", prompt=not_guidance_example,max_tokens=240)\n",
    "    not_guidance_snippets.append(completion.choices[0]['text'])\n",
    "    print('Generating not guidance snippet number %i'%(i))\n",
    "    time.sleep(3)\n",
    "  "
   ]
  },
  {
   "cell_type": "code",
   "execution_count": null,
   "id": "329fda82",
   "metadata": {},
   "outputs": [],
   "source": [
    "\n",
    "df = pd.DataFrame(np.zeros((1000,2)))\n",
    "df.columns = ['snippets','guidance']\n",
    "df['guidance'].loc[0:499] = 1"
   ]
  },
  {
   "cell_type": "code",
   "execution_count": null,
   "id": "2780d2a2",
   "metadata": {},
   "outputs": [],
   "source": [
    "df['snippets'] = guidance_snippets+not_guidance_snippets"
   ]
  },
  {
   "cell_type": "code",
   "execution_count": null,
   "id": "5ae0066f",
   "metadata": {},
   "outputs": [],
   "source": [
    "df.to_csv('generated_snippets.csv')"
   ]
  }
 ],
 "metadata": {
  "kernelspec": {
   "display_name": "Python 3 (ipykernel)",
   "language": "python",
   "name": "python3"
  },
  "language_info": {
   "codemirror_mode": {
    "name": "ipython",
    "version": 3
   },
   "file_extension": ".py",
   "mimetype": "text/x-python",
   "name": "python",
   "nbconvert_exporter": "python",
   "pygments_lexer": "ipython3",
   "version": "3.10.2"
  }
 },
 "nbformat": 4,
 "nbformat_minor": 5
}
