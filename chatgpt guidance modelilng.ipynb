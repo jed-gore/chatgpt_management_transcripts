{
 "cells": [
  {
   "cell_type": "code",
   "execution_count": 1,
   "id": "f8ac93ed",
   "metadata": {},
   "outputs": [],
   "source": [
    "import pandas as pd\n",
    "import numpy as np\n",
    "import matplotlib.pyplot as plt\n",
    "from sklearn.ensemble import RandomForestClassifier\n",
    "\n",
    "from sklearn.model_selection import train_test_split\n",
    "from sklearn.metrics import ConfusionMatrixDisplay\n",
    "from sklearn.metrics import confusion_matrix, f1_score, accuracy_score\n",
    "from sklearn.feature_extraction import text\n",
    "from sklearn.feature_extraction.text import TfidfVectorizer\n",
    "import nltk\n",
    "from nltk.tokenize import sent_tokenize\n",
    "pd.set_option('max_colwidth', None)"
   ]
  },
  {
   "cell_type": "code",
   "execution_count": 2,
   "id": "c01591b0",
   "metadata": {},
   "outputs": [
    {
     "data": {
      "text/html": [
       "<style>#sk-container-id-1 {color: black;background-color: white;}#sk-container-id-1 pre{padding: 0;}#sk-container-id-1 div.sk-toggleable {background-color: white;}#sk-container-id-1 label.sk-toggleable__label {cursor: pointer;display: block;width: 100%;margin-bottom: 0;padding: 0.3em;box-sizing: border-box;text-align: center;}#sk-container-id-1 label.sk-toggleable__label-arrow:before {content: \"▸\";float: left;margin-right: 0.25em;color: #696969;}#sk-container-id-1 label.sk-toggleable__label-arrow:hover:before {color: black;}#sk-container-id-1 div.sk-estimator:hover label.sk-toggleable__label-arrow:before {color: black;}#sk-container-id-1 div.sk-toggleable__content {max-height: 0;max-width: 0;overflow: hidden;text-align: left;background-color: #f0f8ff;}#sk-container-id-1 div.sk-toggleable__content pre {margin: 0.2em;color: black;border-radius: 0.25em;background-color: #f0f8ff;}#sk-container-id-1 input.sk-toggleable__control:checked~div.sk-toggleable__content {max-height: 200px;max-width: 100%;overflow: auto;}#sk-container-id-1 input.sk-toggleable__control:checked~label.sk-toggleable__label-arrow:before {content: \"▾\";}#sk-container-id-1 div.sk-estimator input.sk-toggleable__control:checked~label.sk-toggleable__label {background-color: #d4ebff;}#sk-container-id-1 div.sk-label input.sk-toggleable__control:checked~label.sk-toggleable__label {background-color: #d4ebff;}#sk-container-id-1 input.sk-hidden--visually {border: 0;clip: rect(1px 1px 1px 1px);clip: rect(1px, 1px, 1px, 1px);height: 1px;margin: -1px;overflow: hidden;padding: 0;position: absolute;width: 1px;}#sk-container-id-1 div.sk-estimator {font-family: monospace;background-color: #f0f8ff;border: 1px dotted black;border-radius: 0.25em;box-sizing: border-box;margin-bottom: 0.5em;}#sk-container-id-1 div.sk-estimator:hover {background-color: #d4ebff;}#sk-container-id-1 div.sk-parallel-item::after {content: \"\";width: 100%;border-bottom: 1px solid gray;flex-grow: 1;}#sk-container-id-1 div.sk-label:hover label.sk-toggleable__label {background-color: #d4ebff;}#sk-container-id-1 div.sk-serial::before {content: \"\";position: absolute;border-left: 1px solid gray;box-sizing: border-box;top: 0;bottom: 0;left: 50%;z-index: 0;}#sk-container-id-1 div.sk-serial {display: flex;flex-direction: column;align-items: center;background-color: white;padding-right: 0.2em;padding-left: 0.2em;position: relative;}#sk-container-id-1 div.sk-item {position: relative;z-index: 1;}#sk-container-id-1 div.sk-parallel {display: flex;align-items: stretch;justify-content: center;background-color: white;position: relative;}#sk-container-id-1 div.sk-item::before, #sk-container-id-1 div.sk-parallel-item::before {content: \"\";position: absolute;border-left: 1px solid gray;box-sizing: border-box;top: 0;bottom: 0;left: 50%;z-index: -1;}#sk-container-id-1 div.sk-parallel-item {display: flex;flex-direction: column;z-index: 1;position: relative;background-color: white;}#sk-container-id-1 div.sk-parallel-item:first-child::after {align-self: flex-end;width: 50%;}#sk-container-id-1 div.sk-parallel-item:last-child::after {align-self: flex-start;width: 50%;}#sk-container-id-1 div.sk-parallel-item:only-child::after {width: 0;}#sk-container-id-1 div.sk-dashed-wrapped {border: 1px dashed gray;margin: 0 0.4em 0.5em 0.4em;box-sizing: border-box;padding-bottom: 0.4em;background-color: white;}#sk-container-id-1 div.sk-label label {font-family: monospace;font-weight: bold;display: inline-block;line-height: 1.2em;}#sk-container-id-1 div.sk-label-container {text-align: center;}#sk-container-id-1 div.sk-container {/* jupyter's `normalize.less` sets `[hidden] { display: none; }` but bootstrap.min.css set `[hidden] { display: none !important; }` so we also need the `!important` here to be able to override the default hidden behavior on the sphinx rendered scikit-learn.org. See: https://github.com/scikit-learn/scikit-learn/issues/21755 */display: inline-block !important;position: relative;}#sk-container-id-1 div.sk-text-repr-fallback {display: none;}</style><div id=\"sk-container-id-1\" class=\"sk-top-container\"><div class=\"sk-text-repr-fallback\"><pre>RandomForestClassifier()</pre><b>In a Jupyter environment, please rerun this cell to show the HTML representation or trust the notebook. <br />On GitHub, the HTML representation is unable to render, please try loading this page with nbviewer.org.</b></div><div class=\"sk-container\" hidden><div class=\"sk-item\"><div class=\"sk-estimator sk-toggleable\"><input class=\"sk-toggleable__control sk-hidden--visually\" id=\"sk-estimator-id-1\" type=\"checkbox\" checked><label for=\"sk-estimator-id-1\" class=\"sk-toggleable__label sk-toggleable__label-arrow\">RandomForestClassifier</label><div class=\"sk-toggleable__content\"><pre>RandomForestClassifier()</pre></div></div></div></div></div>"
      ],
      "text/plain": [
       "RandomForestClassifier()"
      ]
     },
     "execution_count": 2,
     "metadata": {},
     "output_type": "execute_result"
    }
   ],
   "source": [
    "labeled_data = pd.read_csv('generated_snippets.csv').drop(columns=['Unnamed: 0'])\n",
    "labeled_data.guidance = labeled_data.guidance.astype(int)\n",
    "labeled_data = labeled_data.dropna().reset_index()\n",
    "labeled_data['snippets']=labeled_data['snippets'].str.replace('\\\\n\\\\n','',regex=True)\n",
    "labeled_data.head()\n",
    "dataset = labeled_data\n",
    "\n",
    "vectorizer = TfidfVectorizer (max_features = 750)\n",
    "\n",
    "\n",
    "\n",
    "my_stop_words = text.ENGLISH_STOP_WORDS.union([\"book\"])\n",
    "\n",
    "vectorizer = TfidfVectorizer(max_features=750, ngram_range=(1,1), stop_words=list(my_stop_words))\n",
    "tokenized_data = vectorizer.fit_transform(dataset['snippets']).toarray()\n",
    "\n",
    "labels = np.array(dataset[\"guidance\"])  # Label is already an array of 0 and 1\n",
    "\n",
    "rf = RandomForestClassifier(n_estimators=100)\n",
    "X = tokenized_data\n",
    "y = labels\n",
    "X_train, X_test,y_train, y_test = train_test_split(X,y,test_size=0.2)\n",
    "rf.fit(X_train,y_train)\n",
    "\n"
   ]
  },
  {
   "cell_type": "code",
   "execution_count": 3,
   "id": "bdfeb37d",
   "metadata": {},
   "outputs": [
    {
     "data": {
      "text/html": [
       "<div>\n",
       "<style scoped>\n",
       "    .dataframe tbody tr th:only-of-type {\n",
       "        vertical-align: middle;\n",
       "    }\n",
       "\n",
       "    .dataframe tbody tr th {\n",
       "        vertical-align: top;\n",
       "    }\n",
       "\n",
       "    .dataframe thead th {\n",
       "        text-align: right;\n",
       "    }\n",
       "</style>\n",
       "<table border=\"1\" class=\"dataframe\">\n",
       "  <thead>\n",
       "    <tr style=\"text-align: right;\">\n",
       "      <th></th>\n",
       "      <th>index</th>\n",
       "      <th>snippets</th>\n",
       "      <th>guidance</th>\n",
       "    </tr>\n",
       "  </thead>\n",
       "  <tbody>\n",
       "    <tr>\n",
       "      <th>0</th>\n",
       "      <td>0</td>\n",
       "      <td>We anticipate net charge-offs to remain within a range of 3.9% to 4.3% for next year.</td>\n",
       "      <td>1</td>\n",
       "    </tr>\n",
       "    <tr>\n",
       "      <th>1</th>\n",
       "      <td>1</td>\n",
       "      <td>We continue to monitor macroeconomic trends and the outlook for our customers and our industry, and we may make further adjustments to our outlook if developments indicate a need for us to change course. We are well positioned to deliver strong results for our shareholders regardless of what comes next.</td>\n",
       "      <td>1</td>\n",
       "    </tr>\n",
       "    <tr>\n",
       "      <th>2</th>\n",
       "      <td>2</td>\n",
       "      <td>We understand the responsibility we have to manage our credit risks carefully and responsibly, and we are committed to proactive measures to protect our customer base and our bottom line.</td>\n",
       "      <td>1</td>\n",
       "    </tr>\n",
       "    <tr>\n",
       "      <th>3</th>\n",
       "      <td>5</td>\n",
       "      <td>Given these dynamics, we anticipate that net charge-offs could increase to between 4.0% and 4.4% over the course of 2023. This range is in line with our expectations for the macroeconomic environment, while preserving the balance between responsible lending and keeping the cost of funds competitive.</td>\n",
       "      <td>1</td>\n",
       "    </tr>\n",
       "    <tr>\n",
       "      <th>4</th>\n",
       "      <td>6</td>\n",
       "      <td>Longer-term, we expect charge-off rates to normalize within a range between 2.5% and 3.5%. Depending on absolute levels of charge-offs, our business strategy could be impacted if we are unable to absorb higher-than-anticipated levels. We consider this risk as part of our overall risk management process and will actively monitor charge-off levels to ensure that our business continues to perform in an effective manner.</td>\n",
       "      <td>1</td>\n",
       "    </tr>\n",
       "    <tr>\n",
       "      <th>...</th>\n",
       "      <td>...</td>\n",
       "      <td>...</td>\n",
       "      <td>...</td>\n",
       "    </tr>\n",
       "    <tr>\n",
       "      <th>817</th>\n",
       "      <td>995</td>\n",
       "      <td>Additionally, we grew deposits by 22%, driven largely by our robust mobile capabilities and digital offerings that appeal to new customers. Finally, beyond our strong financial performance, we also saw customer satisfaction with our services increase by 7%, a testament to the investments we’ve made in customer experience.</td>\n",
       "      <td>0</td>\n",
       "    </tr>\n",
       "    <tr>\n",
       "      <th>818</th>\n",
       "      <td>996</td>\n",
       "      <td>Second, operating income grew by 17%, driven by strong volume growth, increased productivity and improved expense management. This is reflective of our ongoing commitment to drive long-term value and generate consistent results.Finally, our customer satisfaction ratings remain high, indicating that existing customers are satisfied with our service.Overall, these results make it clear that our efforts are translating into meaningful value for our shareholders and that we are well-positioned to continue delivering strong returns.</td>\n",
       "      <td>0</td>\n",
       "    </tr>\n",
       "    <tr>\n",
       "      <th>819</th>\n",
       "      <td>997</td>\n",
       "      <td>Second, we grew new deposits by 24% and saw a 14% improvement in deposit mix shifting more towards higher-margin products. Third, we grew net revenue year-over-year by 12%. This was driven by strong growth in both net interest income and non-interest income.Overall, these strong results exceed our expectations, demonstrate the effectiveness of our strategy, and set us up to continue leading the industry in digital banking. We are more confident than ever about our ability to drive future growth and deliver future value to our customers, employees, and shareholders.</td>\n",
       "      <td>0</td>\n",
       "    </tr>\n",
       "    <tr>\n",
       "      <th>820</th>\n",
       "      <td>998</td>\n",
       "      <td>Second, our deposit accounts increased by 15%, showcasing our ability to leverage our digital platform and attract both existing and new customers. Third, we increased our market share in the mortgage segment by an impressive 28%. This indicates our growing ability to execute in this highly competitive space and is driven by our continued investment in our mortgage platform, operations and customer experience.</td>\n",
       "      <td>0</td>\n",
       "    </tr>\n",
       "    <tr>\n",
       "      <th>821</th>\n",
       "      <td>999</td>\n",
       "      <td>Second, our provision costs declined by 32%, achieving a new low on non-performing loans as a ratio of total loans and deposits. This reflects our commitment to sound risk management and financial stewardship.Third, we achieved significant cost savings on transaction fees, resulting in a 13% reduction in overall operating expenses. This demonstrates our ability to create value through cost efficiency and improved profitability.Finally, our net interest margin increased by 18 basis points, and our customer loyalty also increased during this period, with higher customer retention rates for both deposits and loans. This reflects the customer-centric strategy we have implemented to prioritize customer service.</td>\n",
       "      <td>0</td>\n",
       "    </tr>\n",
       "  </tbody>\n",
       "</table>\n",
       "<p>822 rows × 3 columns</p>\n",
       "</div>"
      ],
      "text/plain": [
       "     index  \\\n",
       "0        0   \n",
       "1        1   \n",
       "2        2   \n",
       "3        5   \n",
       "4        6   \n",
       "..     ...   \n",
       "817    995   \n",
       "818    996   \n",
       "819    997   \n",
       "820    998   \n",
       "821    999   \n",
       "\n",
       "                                                                                                                                                                                                                                                                                                                                                                                                                                                                                                                                                                                                                                                                                                                                        snippets  \\\n",
       "0                                                                                                                                                                                                                                                                                                                                                                                                                                                                                                                                                                                                                                                          We anticipate net charge-offs to remain within a range of 3.9% to 4.3% for next year.   \n",
       "1                                                                                                                                                                                                                                                                                                                                                                                                                               We continue to monitor macroeconomic trends and the outlook for our customers and our industry, and we may make further adjustments to our outlook if developments indicate a need for us to change course. We are well positioned to deliver strong results for our shareholders regardless of what comes next.   \n",
       "2                                                                                                                                                                                                                                                                                                                                                                                                                                                                                                                                                   We understand the responsibility we have to manage our credit risks carefully and responsibly, and we are committed to proactive measures to protect our customer base and our bottom line.    \n",
       "3                                                                                                                                                                                                                                                                                                                                                                                                                                   Given these dynamics, we anticipate that net charge-offs could increase to between 4.0% and 4.4% over the course of 2023. This range is in line with our expectations for the macroeconomic environment, while preserving the balance between responsible lending and keeping the cost of funds competitive.   \n",
       "4                                                                                                                                                                                                                                                                                                           Longer-term, we expect charge-off rates to normalize within a range between 2.5% and 3.5%. Depending on absolute levels of charge-offs, our business strategy could be impacted if we are unable to absorb higher-than-anticipated levels. We consider this risk as part of our overall risk management process and will actively monitor charge-off levels to ensure that our business continues to perform in an effective manner.   \n",
       "..                                                                                                                                                                                                                                                                                                                                                                                                                                                                                                                                                                                                                                                                                                                                           ...   \n",
       "817                                                                                                                                                                                                                                                                                                                                                                                                          Additionally, we grew deposits by 22%, driven largely by our robust mobile capabilities and digital offerings that appeal to new customers. Finally, beyond our strong financial performance, we also saw customer satisfaction with our services increase by 7%, a testament to the investments we’ve made in customer experience.   \n",
       "818                                                                                                                                                                                        Second, operating income grew by 17%, driven by strong volume growth, increased productivity and improved expense management. This is reflective of our ongoing commitment to drive long-term value and generate consistent results.Finally, our customer satisfaction ratings remain high, indicating that existing customers are satisfied with our service.Overall, these results make it clear that our efforts are translating into meaningful value for our shareholders and that we are well-positioned to continue delivering strong returns.   \n",
       "819                                                                                                                                                  Second, we grew new deposits by 24% and saw a 14% improvement in deposit mix shifting more towards higher-margin products. Third, we grew net revenue year-over-year by 12%. This was driven by strong growth in both net interest income and non-interest income.Overall, these strong results exceed our expectations, demonstrate the effectiveness of our strategy, and set us up to continue leading the industry in digital banking. We are more confident than ever about our ability to drive future growth and deliver future value to our customers, employees, and shareholders.   \n",
       "820                                                                                                                                                                                                                                                                                                                Second, our deposit accounts increased by 15%, showcasing our ability to leverage our digital platform and attract both existing and new customers. Third, we increased our market share in the mortgage segment by an impressive 28%. This indicates our growing ability to execute in this highly competitive space and is driven by our continued investment in our mortgage platform, operations and customer experience.   \n",
       "821  Second, our provision costs declined by 32%, achieving a new low on non-performing loans as a ratio of total loans and deposits. This reflects our commitment to sound risk management and financial stewardship.Third, we achieved significant cost savings on transaction fees, resulting in a 13% reduction in overall operating expenses. This demonstrates our ability to create value through cost efficiency and improved profitability.Finally, our net interest margin increased by 18 basis points, and our customer loyalty also increased during this period, with higher customer retention rates for both deposits and loans. This reflects the customer-centric strategy we have implemented to prioritize customer service.   \n",
       "\n",
       "     guidance  \n",
       "0           1  \n",
       "1           1  \n",
       "2           1  \n",
       "3           1  \n",
       "4           1  \n",
       "..        ...  \n",
       "817         0  \n",
       "818         0  \n",
       "819         0  \n",
       "820         0  \n",
       "821         0  \n",
       "\n",
       "[822 rows x 3 columns]"
      ]
     },
     "execution_count": 3,
     "metadata": {},
     "output_type": "execute_result"
    }
   ],
   "source": [
    "labeled_data"
   ]
  },
  {
   "cell_type": "code",
   "execution_count": 4,
   "id": "10e9a51c",
   "metadata": {},
   "outputs": [],
   "source": [
    "predictions = rf.predict(X_test)"
   ]
  },
  {
   "cell_type": "code",
   "execution_count": 5,
   "id": "b871d97f",
   "metadata": {},
   "outputs": [
    {
     "data": {
      "text/plain": [
       "0.9879"
      ]
     },
     "execution_count": 5,
     "metadata": {},
     "output_type": "execute_result"
    }
   ],
   "source": [
    "round(accuracy_score(y_test, predictions),4)"
   ]
  },
  {
   "cell_type": "code",
   "execution_count": 6,
   "id": "1c13ff49",
   "metadata": {},
   "outputs": [
    {
     "data": {
      "text/plain": [
       "0.9848"
      ]
     },
     "execution_count": 6,
     "metadata": {},
     "output_type": "execute_result"
    }
   ],
   "source": [
    "round(f1_score(y_test,predictions),4)"
   ]
  },
  {
   "cell_type": "code",
   "execution_count": 7,
   "id": "636faa3c",
   "metadata": {},
   "outputs": [
    {
     "data": {
      "text/html": [
       "<div>\n",
       "<style scoped>\n",
       "    .dataframe tbody tr th:only-of-type {\n",
       "        vertical-align: middle;\n",
       "    }\n",
       "\n",
       "    .dataframe tbody tr th {\n",
       "        vertical-align: top;\n",
       "    }\n",
       "\n",
       "    .dataframe thead th {\n",
       "        text-align: right;\n",
       "    }\n",
       "</style>\n",
       "<table border=\"1\" class=\"dataframe\">\n",
       "  <thead>\n",
       "    <tr style=\"text-align: right;\">\n",
       "      <th></th>\n",
       "      <th>snippets</th>\n",
       "    </tr>\n",
       "  </thead>\n",
       "  <tbody>\n",
       "    <tr>\n",
       "      <th>0</th>\n",
       "      <td>In the fourth quarter, Capital One earned $1.2   $3.03 per diluted common share.</td>\n",
       "    </tr>\n",
       "    <tr>\n",
       "      <th>1</th>\n",
       "      <td>F the full year, Capital One earned $7.4   $17.91 per share.</td>\n",
       "    </tr>\n",
       "    <tr>\n",
       "      <th>2</th>\n",
       "      <td>Included in the results f the fourth quarter were two adjusting items, which collectively benefited pre-tax earnings by $105 million.</td>\n",
       "    </tr>\n",
       "    <tr>\n",
       "      <th>3</th>\n",
       "      <td>Net of these adjustments, fourth quarter earnings per share were $2.82 and full year earnings per share  $17.71.</td>\n",
       "    </tr>\n",
       "    <tr>\n",
       "      <th>4</th>\n",
       "      <td>On a linked quarter basis, period-end loans grew 3% and average loans grew 2%, driven by growth in our domestic card business.</td>\n",
       "    </tr>\n",
       "  </tbody>\n",
       "</table>\n",
       "</div>"
      ],
      "text/plain": [
       "                                                                                                                                snippets\n",
       "0                                                       In the fourth quarter, Capital One earned $1.2   $3.03 per diluted common share.\n",
       "1                                                                           F the full year, Capital One earned $7.4   $17.91 per share.\n",
       "2  Included in the results f the fourth quarter were two adjusting items, which collectively benefited pre-tax earnings by $105 million.\n",
       "3                       Net of these adjustments, fourth quarter earnings per share were $2.82 and full year earnings per share  $17.71.\n",
       "4         On a linked quarter basis, period-end loans grew 3% and average loans grew 2%, driven by growth in our domestic card business."
      ]
     },
     "execution_count": 7,
     "metadata": {},
     "output_type": "execute_result"
    }
   ],
   "source": [
    "\n",
    "filex = open('capital_one.txt', 'r')\n",
    "text = filex.read()\n",
    "tokens = nltk.sent_tokenize(text)\n",
    "target_data = {\"snippets\":tokens}\n",
    "target_data = pd.DataFrame(target_data)\n",
    "target_data.snippets = target_data.snippets.str.replace('billion|or','',regex=True)\n",
    "target_data.head()"
   ]
  },
  {
   "cell_type": "code",
   "execution_count": 8,
   "id": "831f1d7d",
   "metadata": {},
   "outputs": [],
   "source": [
    "dataset = target_data\n",
    "#vectorizer = TfidfVectorizer (max_features=750)\n",
    "\n",
    "vectorizer = TfidfVectorizer(max_features=750, ngram_range=(1,1), stop_words=list(my_stop_words))\n",
    "#tokenized_data = vectorizer.fit_transform(dataset['snippets']).toarray()\n",
    "\n",
    "\n",
    "\n",
    "vectorizer.fit(dataset['snippets'])\n",
    "new_data_processed = vectorizer.transform(target_data['snippets']).toarray()\n",
    "y_pred = rf.predict(new_data_processed)"
   ]
  },
  {
   "cell_type": "code",
   "execution_count": 9,
   "id": "95d4d7dd",
   "metadata": {},
   "outputs": [
    {
     "data": {
      "text/html": [
       "<div>\n",
       "<style scoped>\n",
       "    .dataframe tbody tr th:only-of-type {\n",
       "        vertical-align: middle;\n",
       "    }\n",
       "\n",
       "    .dataframe tbody tr th {\n",
       "        vertical-align: top;\n",
       "    }\n",
       "\n",
       "    .dataframe thead th {\n",
       "        text-align: right;\n",
       "    }\n",
       "</style>\n",
       "<table border=\"1\" class=\"dataframe\">\n",
       "  <thead>\n",
       "    <tr style=\"text-align: right;\">\n",
       "      <th></th>\n",
       "      <th>snippets</th>\n",
       "      <th>class_prediction</th>\n",
       "    </tr>\n",
       "  </thead>\n",
       "  <tbody>\n",
       "    <tr>\n",
       "      <th>339</th>\n",
       "      <td>No.</td>\n",
       "      <td>1</td>\n",
       "    </tr>\n",
       "    <tr>\n",
       "      <th>340</th>\n",
       "      <td>And I think Rich touched on some of these in one of his earlier responses, but what we're seeing in terms of nmalization is playing out as we expect.</td>\n",
       "      <td>1</td>\n",
       "    </tr>\n",
       "    <tr>\n",
       "      <th>341</th>\n",
       "      <td>It's part of why I wanted to highlight the fact that the mechanics of the reserve though only take into account that 12-month model period and revert from there.</td>\n",
       "      <td>1</td>\n",
       "    </tr>\n",
       "    <tr>\n",
       "      <th>342</th>\n",
       "      <td>And so, we're only allowing f the content, the outstanding content at the end of the quarter as well.</td>\n",
       "      <td>1</td>\n",
       "    </tr>\n",
       "    <tr>\n",
       "      <th>343</th>\n",
       "      <td>So even if things play out exactly as we expect, we could see allowance build, just like we saw this quarter, it just depends on a whole host of facts.</td>\n",
       "      <td>1</td>\n",
       "    </tr>\n",
       "  </tbody>\n",
       "</table>\n",
       "</div>"
      ],
      "text/plain": [
       "                                                                                                                                                              snippets  \\\n",
       "339                                                                                                                                                                No.   \n",
       "340              And I think Rich touched on some of these in one of his earlier responses, but what we're seeing in terms of nmalization is playing out as we expect.   \n",
       "341  It's part of why I wanted to highlight the fact that the mechanics of the reserve though only take into account that 12-month model period and revert from there.   \n",
       "342                                                              And so, we're only allowing f the content, the outstanding content at the end of the quarter as well.   \n",
       "343            So even if things play out exactly as we expect, we could see allowance build, just like we saw this quarter, it just depends on a whole host of facts.   \n",
       "\n",
       "     class_prediction  \n",
       "339                 1  \n",
       "340                 1  \n",
       "341                 1  \n",
       "342                 1  \n",
       "343                 1  "
      ]
     },
     "execution_count": 9,
     "metadata": {},
     "output_type": "execute_result"
    }
   ],
   "source": [
    "target_data['class_prediction'] = y_pred\n",
    "target_data.tail()\n"
   ]
  },
  {
   "cell_type": "code",
   "execution_count": 10,
   "id": "b68e65cb",
   "metadata": {},
   "outputs": [
    {
     "data": {
      "text/plain": [
       "Text(0.5, 0, 'snippets')"
      ]
     },
     "execution_count": 10,
     "metadata": {},
     "output_type": "execute_result"
    },
    {
     "data": {
      "image/png": "[encoded data removed]",
      "text/plain": [
       "<Figure size 432x288 with 1 Axes>"
      ]
     },
     "metadata": {
      "needs_background": "light"
     },
     "output_type": "display_data"
    }
   ],
   "source": [
    "import seaborn as sns\n",
    "sns.countplot(x=pd.DataFrame(y_pred)[0])\n",
    "plt.xticks([0,1],['guidance','not guidance snippets'])\n",
    "plt.xlabel('snippets')"
   ]
  },
  {
   "cell_type": "code",
   "execution_count": 11,
   "id": "1c5fba8c",
   "metadata": {},
   "outputs": [],
   "source": [
    "dataset = labeled_data\n",
    "from sklearn.linear_model import LogisticRegression\n",
    "\n",
    "labels = np.array(dataset[\"guidance\"])  # Label is already an array of 0 and 1\n",
    "\n",
    "X = tokenized_data\n",
    "y = labels\n",
    "X_train, X_test,y_train, y_test = train_test_split(X,y,test_size=0.2)\n",
    "rf = LogisticRegression(random_state=0).fit(X_train, y_train)\n",
    "\n"
   ]
  },
  {
   "cell_type": "code",
   "execution_count": 12,
   "id": "0561b1ae",
   "metadata": {},
   "outputs": [
    {
     "data": {
      "text/plain": [
       "0.3692"
      ]
     },
     "execution_count": 12,
     "metadata": {},
     "output_type": "execute_result"
    }
   ],
   "source": [
    "round(f1_score(y_test,predictions),4)"
   ]
  },
  {
   "cell_type": "code",
   "execution_count": 13,
   "id": "fd74886f",
   "metadata": {},
   "outputs": [
    {
     "data": {
      "text/html": [
       "<div>\n",
       "<style scoped>\n",
       "    .dataframe tbody tr th:only-of-type {\n",
       "        vertical-align: middle;\n",
       "    }\n",
       "\n",
       "    .dataframe tbody tr th {\n",
       "        vertical-align: top;\n",
       "    }\n",
       "\n",
       "    .dataframe thead th {\n",
       "        text-align: right;\n",
       "    }\n",
       "</style>\n",
       "<table border=\"1\" class=\"dataframe\">\n",
       "  <thead>\n",
       "    <tr style=\"text-align: right;\">\n",
       "      <th></th>\n",
       "      <th>snippets</th>\n",
       "      <th>class_prediction</th>\n",
       "      <th>probability</th>\n",
       "    </tr>\n",
       "  </thead>\n",
       "  <tbody>\n",
       "    <tr>\n",
       "      <th>203</th>\n",
       "      <td>But payment rates continue to be strong.</td>\n",
       "      <td>0</td>\n",
       "      <td>0.801636</td>\n",
       "    </tr>\n",
       "    <tr>\n",
       "      <th>297</th>\n",
       "      <td>And f what it's wth, those assumptions also then carry into that reversion period.</td>\n",
       "      <td>1</td>\n",
       "      <td>0.764122</td>\n",
       "    </tr>\n",
       "    <tr>\n",
       "      <th>216</th>\n",
       "      <td>So Capital One has -- we continue to suppt the various technology players, who have developed payment innovations, and we continue to develop innovations of our own.</td>\n",
       "      <td>1</td>\n",
       "      <td>0.758827</td>\n",
       "    </tr>\n",
       "    <tr>\n",
       "      <th>121</th>\n",
       "      <td>So consumer credit metrics remain strong.</td>\n",
       "      <td>0</td>\n",
       "      <td>0.752574</td>\n",
       "    </tr>\n",
       "    <tr>\n",
       "      <th>343</th>\n",
       "      <td>So even if things play out exactly as we expect, we could see allowance build, just like we saw this quarter, it just depends on a whole host of facts.</td>\n",
       "      <td>1</td>\n",
       "      <td>0.682336</td>\n",
       "    </tr>\n",
       "    <tr>\n",
       "      <th>...</th>\n",
       "      <td>...</td>\n",
       "      <td>...</td>\n",
       "      <td>...</td>\n",
       "    </tr>\n",
       "    <tr>\n",
       "      <th>114</th>\n",
       "      <td>But as our growth continues, a ption of our allowance builds going fward are intended to suppt that growth.</td>\n",
       "      <td>1</td>\n",
       "      <td>0.251254</td>\n",
       "    </tr>\n",
       "    <tr>\n",
       "      <th>120</th>\n",
       "      <td>Thanks, Ryan.</td>\n",
       "      <td>1</td>\n",
       "      <td>0.245107</td>\n",
       "    </tr>\n",
       "    <tr>\n",
       "      <th>165</th>\n",
       "      <td>Of course, most of the marketing that we do is in the card business.</td>\n",
       "      <td>1</td>\n",
       "      <td>0.238550</td>\n",
       "    </tr>\n",
       "    <tr>\n",
       "      <th>187</th>\n",
       "      <td>And we have, of course, a very vigilant eye on the economic environment that we're moving into.</td>\n",
       "      <td>1</td>\n",
       "      <td>0.220447</td>\n",
       "    </tr>\n",
       "    <tr>\n",
       "      <th>60</th>\n",
       "      <td>We're keeping a close eye on competit actions and potential marketplace risks.</td>\n",
       "      <td>1</td>\n",
       "      <td>0.170706</td>\n",
       "    </tr>\n",
       "  </tbody>\n",
       "</table>\n",
       "<p>344 rows × 3 columns</p>\n",
       "</div>"
      ],
      "text/plain": [
       "                                                                                                                                                                  snippets  \\\n",
       "203                                                                                                                               But payment rates continue to be strong.   \n",
       "297                                                                                     And f what it's wth, those assumptions also then carry into that reversion period.   \n",
       "216  So Capital One has -- we continue to suppt the various technology players, who have developed payment innovations, and we continue to develop innovations of our own.   \n",
       "121                                                                                                                              So consumer credit metrics remain strong.   \n",
       "343                So even if things play out exactly as we expect, we could see allowance build, just like we saw this quarter, it just depends on a whole host of facts.   \n",
       "..                                                                                                                                                                     ...   \n",
       "114                                                            But as our growth continues, a ption of our allowance builds going fward are intended to suppt that growth.   \n",
       "120                                                                                                                                                          Thanks, Ryan.   \n",
       "165                                                                                                   Of course, most of the marketing that we do is in the card business.   \n",
       "187                                                                        And we have, of course, a very vigilant eye on the economic environment that we're moving into.   \n",
       "60                                                                                          We're keeping a close eye on competit actions and potential marketplace risks.   \n",
       "\n",
       "     class_prediction  probability  \n",
       "203                 0     0.801636  \n",
       "297                 1     0.764122  \n",
       "216                 1     0.758827  \n",
       "121                 0     0.752574  \n",
       "343                 1     0.682336  \n",
       "..                ...          ...  \n",
       "114                 1     0.251254  \n",
       "120                 1     0.245107  \n",
       "165                 1     0.238550  \n",
       "187                 1     0.220447  \n",
       "60                  1     0.170706  \n",
       "\n",
       "[344 rows x 3 columns]"
      ]
     },
     "execution_count": 13,
     "metadata": {},
     "output_type": "execute_result"
    }
   ],
   "source": [
    "dataset = target_data\n",
    "\n",
    "y_pred = rf.predict_proba(new_data_processed)\n",
    "target_data['probability'] = pd.DataFrame(y_pred)[[0]]\n",
    "target_data.sort_values('probability',ascending=False)"
   ]
  }
 ],
 "metadata": {
  "kernelspec": {
   "display_name": "Python 3 (ipykernel)",
   "language": "python",
   "name": "python3"
  },
  "language_info": {
   "codemirror_mode": {
    "name": "ipython",
    "version": 3
   },
   "file_extension": ".py",
   "mimetype": "text/x-python",
   "name": "python",
   "nbconvert_exporter": "python",
   "pygments_lexer": "ipython3",
   "version": "3.10.2"
  }
 },
 "nbformat": 4,
 "nbformat_minor": 5
}
