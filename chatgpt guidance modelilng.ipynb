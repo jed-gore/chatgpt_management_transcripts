{
 "cells": [
  {
   "cell_type": "code",
   "execution_count": 1,
   "id": "bd0f49bc",
   "metadata": {},
   "outputs": [],
   "source": [
    "import pandas as pd\n",
    "import numpy as np\n",
    "import matplotlib.pyplot as plt\n",
    "from sklearn.ensemble import RandomForestClassifier\n",
    "\n",
    "from sklearn.model_selection import train_test_split\n",
    "from sklearn.metrics import ConfusionMatrixDisplay\n",
    "from sklearn.metrics import confusion_matrix, f1_score, accuracy_score\n",
    "from sklearn.feature_extraction import text\n",
    "from sklearn.feature_extraction.text import TfidfVectorizer\n",
    "from sklearn.linear_model import LogisticRegression\n",
    "import nltk\n",
    "from nltk.tokenize import sent_tokenize\n",
    "pd.set_option('max_colwidth', None)"
   ]
  },
  {
   "cell_type": "code",
   "execution_count": 2,
   "id": "72886429",
   "metadata": {},
   "outputs": [],
   "source": [
    "max_features = 50"
   ]
  },
  {
   "cell_type": "code",
   "execution_count": 3,
   "id": "6ace9d73",
   "metadata": {},
   "outputs": [],
   "source": [
    "labeled_data = pd.read_csv('generated_snippets.csv').drop(columns=['Unnamed: 0'])\n",
    "labeled_data.guidance = labeled_data.guidance.astype(int)\n",
    "labeled_data = labeled_data.dropna().reset_index()\n",
    "labeled_data['snippets']=labeled_data['snippets'].str.replace('\\\\n\\\\n','',regex=True)\n",
    "labeled_data.head()\n",
    "dataset = labeled_data"
   ]
  },
  {
   "cell_type": "code",
   "execution_count": 4,
   "id": "a9b1e5e8",
   "metadata": {},
   "outputs": [],
   "source": [
    "\n",
    "vectorizer = TfidfVectorizer (max_features=max_features, min_df=7, max_df=0.8)\n",
    "tokenized_data = vectorizer.fit_transform(dataset['snippets']).toarray()"
   ]
  },
  {
   "cell_type": "code",
   "execution_count": 5,
   "id": "9a0eaf76",
   "metadata": {},
   "outputs": [],
   "source": [
    "\n",
    "labels = np.array(dataset[\"guidance\"])  # Label is already an array of 0 and 1\n",
    "\n",
    "rf = RandomForestClassifier(n_estimators=100)\n",
    "X = tokenized_data\n",
    "y = labels\n",
    "X_train, X_test,y_train, y_test = train_test_split(X,y,test_size=0.2)\n",
    "rf.fit(X_train,y_train)\n",
    "lr = LogisticRegression(solver='liblinear', max_iter=10000).fit(X_train, y_train)\n",
    "\n"
   ]
  },
  {
   "cell_type": "code",
   "execution_count": 6,
   "id": "aaca31b4",
   "metadata": {},
   "outputs": [
    {
     "data": {
      "text/html": [
       "<div>\n",
       "<style scoped>\n",
       "    .dataframe tbody tr th:only-of-type {\n",
       "        vertical-align: middle;\n",
       "    }\n",
       "\n",
       "    .dataframe tbody tr th {\n",
       "        vertical-align: top;\n",
       "    }\n",
       "\n",
       "    .dataframe thead th {\n",
       "        text-align: right;\n",
       "    }\n",
       "</style>\n",
       "<table border=\"1\" class=\"dataframe\">\n",
       "  <thead>\n",
       "    <tr style=\"text-align: right;\">\n",
       "      <th></th>\n",
       "      <th>index</th>\n",
       "      <th>snippets</th>\n",
       "      <th>guidance</th>\n",
       "    </tr>\n",
       "  </thead>\n",
       "  <tbody>\n",
       "    <tr>\n",
       "      <th>0</th>\n",
       "      <td>0</td>\n",
       "      <td>We anticipate net charge-offs to remain within a range of 3.9% to 4.3% for next year.</td>\n",
       "      <td>1</td>\n",
       "    </tr>\n",
       "    <tr>\n",
       "      <th>1</th>\n",
       "      <td>1</td>\n",
       "      <td>We continue to monitor macroeconomic trends and the outlook for our customers and our industry, and we may make further adjustments to our outlook if developments indicate a need for us to change course. We are well positioned to deliver strong results for our shareholders regardless of what comes next.</td>\n",
       "      <td>1</td>\n",
       "    </tr>\n",
       "    <tr>\n",
       "      <th>2</th>\n",
       "      <td>2</td>\n",
       "      <td>We understand the responsibility we have to manage our credit risks carefully and responsibly, and we are committed to proactive measures to protect our customer base and our bottom line.</td>\n",
       "      <td>1</td>\n",
       "    </tr>\n",
       "    <tr>\n",
       "      <th>3</th>\n",
       "      <td>5</td>\n",
       "      <td>Given these dynamics, we anticipate that net charge-offs could increase to between 4.0% and 4.4% over the course of 2023. This range is in line with our expectations for the macroeconomic environment, while preserving the balance between responsible lending and keeping the cost of funds competitive.</td>\n",
       "      <td>1</td>\n",
       "    </tr>\n",
       "    <tr>\n",
       "      <th>4</th>\n",
       "      <td>6</td>\n",
       "      <td>Longer-term, we expect charge-off rates to normalize within a range between 2.5% and 3.5%. Depending on absolute levels of charge-offs, our business strategy could be impacted if we are unable to absorb higher-than-anticipated levels. We consider this risk as part of our overall risk management process and will actively monitor charge-off levels to ensure that our business continues to perform in an effective manner.</td>\n",
       "      <td>1</td>\n",
       "    </tr>\n",
       "    <tr>\n",
       "      <th>...</th>\n",
       "      <td>...</td>\n",
       "      <td>...</td>\n",
       "      <td>...</td>\n",
       "    </tr>\n",
       "    <tr>\n",
       "      <th>817</th>\n",
       "      <td>995</td>\n",
       "      <td>Additionally, we grew deposits by 22%, driven largely by our robust mobile capabilities and digital offerings that appeal to new customers. Finally, beyond our strong financial performance, we also saw customer satisfaction with our services increase by 7%, a testament to the investments we’ve made in customer experience.</td>\n",
       "      <td>0</td>\n",
       "    </tr>\n",
       "    <tr>\n",
       "      <th>818</th>\n",
       "      <td>996</td>\n",
       "      <td>Second, operating income grew by 17%, driven by strong volume growth, increased productivity and improved expense management. This is reflective of our ongoing commitment to drive long-term value and generate consistent results.Finally, our customer satisfaction ratings remain high, indicating that existing customers are satisfied with our service.Overall, these results make it clear that our efforts are translating into meaningful value for our shareholders and that we are well-positioned to continue delivering strong returns.</td>\n",
       "      <td>0</td>\n",
       "    </tr>\n",
       "    <tr>\n",
       "      <th>819</th>\n",
       "      <td>997</td>\n",
       "      <td>Second, we grew new deposits by 24% and saw a 14% improvement in deposit mix shifting more towards higher-margin products. Third, we grew net revenue year-over-year by 12%. This was driven by strong growth in both net interest income and non-interest income.Overall, these strong results exceed our expectations, demonstrate the effectiveness of our strategy, and set us up to continue leading the industry in digital banking. We are more confident than ever about our ability to drive future growth and deliver future value to our customers, employees, and shareholders.</td>\n",
       "      <td>0</td>\n",
       "    </tr>\n",
       "    <tr>\n",
       "      <th>820</th>\n",
       "      <td>998</td>\n",
       "      <td>Second, our deposit accounts increased by 15%, showcasing our ability to leverage our digital platform and attract both existing and new customers. Third, we increased our market share in the mortgage segment by an impressive 28%. This indicates our growing ability to execute in this highly competitive space and is driven by our continued investment in our mortgage platform, operations and customer experience.</td>\n",
       "      <td>0</td>\n",
       "    </tr>\n",
       "    <tr>\n",
       "      <th>821</th>\n",
       "      <td>999</td>\n",
       "      <td>Second, our provision costs declined by 32%, achieving a new low on non-performing loans as a ratio of total loans and deposits. This reflects our commitment to sound risk management and financial stewardship.Third, we achieved significant cost savings on transaction fees, resulting in a 13% reduction in overall operating expenses. This demonstrates our ability to create value through cost efficiency and improved profitability.Finally, our net interest margin increased by 18 basis points, and our customer loyalty also increased during this period, with higher customer retention rates for both deposits and loans. This reflects the customer-centric strategy we have implemented to prioritize customer service.</td>\n",
       "      <td>0</td>\n",
       "    </tr>\n",
       "  </tbody>\n",
       "</table>\n",
       "<p>822 rows × 3 columns</p>\n",
       "</div>"
      ],
      "text/plain": [
       "     index  \\\n",
       "0        0   \n",
       "1        1   \n",
       "2        2   \n",
       "3        5   \n",
       "4        6   \n",
       "..     ...   \n",
       "817    995   \n",
       "818    996   \n",
       "819    997   \n",
       "820    998   \n",
       "821    999   \n",
       "\n",
       "                                                                                                                                                                                                                                                                                                                                                                                                                                                                                                                                                                                                                                                                                                                                        snippets  \\\n",
       "0                                                                                                                                                                                                                                                                                                                                                                                                                                                                                                                                                                                                                                                          We anticipate net charge-offs to remain within a range of 3.9% to 4.3% for next year.   \n",
       "1                                                                                                                                                                                                                                                                                                                                                                                                                               We continue to monitor macroeconomic trends and the outlook for our customers and our industry, and we may make further adjustments to our outlook if developments indicate a need for us to change course. We are well positioned to deliver strong results for our shareholders regardless of what comes next.   \n",
       "2                                                                                                                                                                                                                                                                                                                                                                                                                                                                                                                                                   We understand the responsibility we have to manage our credit risks carefully and responsibly, and we are committed to proactive measures to protect our customer base and our bottom line.    \n",
       "3                                                                                                                                                                                                                                                                                                                                                                                                                                   Given these dynamics, we anticipate that net charge-offs could increase to between 4.0% and 4.4% over the course of 2023. This range is in line with our expectations for the macroeconomic environment, while preserving the balance between responsible lending and keeping the cost of funds competitive.   \n",
       "4                                                                                                                                                                                                                                                                                                           Longer-term, we expect charge-off rates to normalize within a range between 2.5% and 3.5%. Depending on absolute levels of charge-offs, our business strategy could be impacted if we are unable to absorb higher-than-anticipated levels. We consider this risk as part of our overall risk management process and will actively monitor charge-off levels to ensure that our business continues to perform in an effective manner.   \n",
       "..                                                                                                                                                                                                                                                                                                                                                                                                                                                                                                                                                                                                                                                                                                                                           ...   \n",
       "817                                                                                                                                                                                                                                                                                                                                                                                                          Additionally, we grew deposits by 22%, driven largely by our robust mobile capabilities and digital offerings that appeal to new customers. Finally, beyond our strong financial performance, we also saw customer satisfaction with our services increase by 7%, a testament to the investments we’ve made in customer experience.   \n",
       "818                                                                                                                                                                                        Second, operating income grew by 17%, driven by strong volume growth, increased productivity and improved expense management. This is reflective of our ongoing commitment to drive long-term value and generate consistent results.Finally, our customer satisfaction ratings remain high, indicating that existing customers are satisfied with our service.Overall, these results make it clear that our efforts are translating into meaningful value for our shareholders and that we are well-positioned to continue delivering strong returns.   \n",
       "819                                                                                                                                                  Second, we grew new deposits by 24% and saw a 14% improvement in deposit mix shifting more towards higher-margin products. Third, we grew net revenue year-over-year by 12%. This was driven by strong growth in both net interest income and non-interest income.Overall, these strong results exceed our expectations, demonstrate the effectiveness of our strategy, and set us up to continue leading the industry in digital banking. We are more confident than ever about our ability to drive future growth and deliver future value to our customers, employees, and shareholders.   \n",
       "820                                                                                                                                                                                                                                                                                                                Second, our deposit accounts increased by 15%, showcasing our ability to leverage our digital platform and attract both existing and new customers. Third, we increased our market share in the mortgage segment by an impressive 28%. This indicates our growing ability to execute in this highly competitive space and is driven by our continued investment in our mortgage platform, operations and customer experience.   \n",
       "821  Second, our provision costs declined by 32%, achieving a new low on non-performing loans as a ratio of total loans and deposits. This reflects our commitment to sound risk management and financial stewardship.Third, we achieved significant cost savings on transaction fees, resulting in a 13% reduction in overall operating expenses. This demonstrates our ability to create value through cost efficiency and improved profitability.Finally, our net interest margin increased by 18 basis points, and our customer loyalty also increased during this period, with higher customer retention rates for both deposits and loans. This reflects the customer-centric strategy we have implemented to prioritize customer service.   \n",
       "\n",
       "     guidance  \n",
       "0           1  \n",
       "1           1  \n",
       "2           1  \n",
       "3           1  \n",
       "4           1  \n",
       "..        ...  \n",
       "817         0  \n",
       "818         0  \n",
       "819         0  \n",
       "820         0  \n",
       "821         0  \n",
       "\n",
       "[822 rows x 3 columns]"
      ]
     },
     "execution_count": 6,
     "metadata": {},
     "output_type": "execute_result"
    }
   ],
   "source": [
    "labeled_data"
   ]
  },
  {
   "cell_type": "code",
   "execution_count": 7,
   "id": "02fa7ba2",
   "metadata": {},
   "outputs": [],
   "source": [
    "predictions = rf.predict(X_test)"
   ]
  },
  {
   "cell_type": "code",
   "execution_count": 8,
   "id": "2b82cc13",
   "metadata": {},
   "outputs": [
    {
     "data": {
      "text/plain": [
       "0.9758"
      ]
     },
     "execution_count": 8,
     "metadata": {},
     "output_type": "execute_result"
    }
   ],
   "source": [
    "round(accuracy_score(y_test, predictions),4)"
   ]
  },
  {
   "cell_type": "code",
   "execution_count": 9,
   "id": "d5e017aa",
   "metadata": {},
   "outputs": [
    {
     "data": {
      "text/plain": [
       "0.9606"
      ]
     },
     "execution_count": 9,
     "metadata": {},
     "output_type": "execute_result"
    }
   ],
   "source": [
    "predictions = lr.predict(X_test)\n",
    "round(f1_score(y_test, predictions),4)"
   ]
  },
  {
   "cell_type": "code",
   "execution_count": null,
   "id": "2a429cb8",
   "metadata": {},
   "outputs": [],
   "source": []
  },
  {
   "cell_type": "code",
   "execution_count": 10,
   "id": "b197722e",
   "metadata": {},
   "outputs": [
    {
     "data": {
      "text/html": [
       "<div>\n",
       "<style scoped>\n",
       "    .dataframe tbody tr th:only-of-type {\n",
       "        vertical-align: middle;\n",
       "    }\n",
       "\n",
       "    .dataframe tbody tr th {\n",
       "        vertical-align: top;\n",
       "    }\n",
       "\n",
       "    .dataframe thead th {\n",
       "        text-align: right;\n",
       "    }\n",
       "</style>\n",
       "<table border=\"1\" class=\"dataframe\">\n",
       "  <thead>\n",
       "    <tr style=\"text-align: right;\">\n",
       "      <th></th>\n",
       "      <th>snippets</th>\n",
       "    </tr>\n",
       "  </thead>\n",
       "  <tbody>\n",
       "    <tr>\n",
       "      <th>0</th>\n",
       "      <td>I’ll start on slide 3 of tonight’s presentation</td>\n",
       "    </tr>\n",
       "    <tr>\n",
       "      <th>1</th>\n",
       "      <td>In the fourth quarter, Capital One earned  1_2 billion or  3_03 per diluted common share</td>\n",
       "    </tr>\n",
       "    <tr>\n",
       "      <th>2</th>\n",
       "      <td>For the full year, Capital One earned  7_4 billion or  17_91 per share</td>\n",
       "    </tr>\n",
       "    <tr>\n",
       "      <th>3</th>\n",
       "      <td>Included in the results for the fourth quarter were two adjusting items, which collectively benefited pretax earnings by  105 million</td>\n",
       "    </tr>\n",
       "    <tr>\n",
       "      <th>4</th>\n",
       "      <td>Net of these adjustments, fourth quarter earnings per share were  2_82 and full year earnings performance share were  17_71</td>\n",
       "    </tr>\n",
       "  </tbody>\n",
       "</table>\n",
       "</div>"
      ],
      "text/plain": [
       "                                                                                                                                 snippets\n",
       "0                                                                                         I’ll start on slide 3 of tonight’s presentation\n",
       "1                                                In the fourth quarter, Capital One earned  1_2 billion or  3_03 per diluted common share\n",
       "2                                                                  For the full year, Capital One earned  7_4 billion or  17_91 per share\n",
       "3   Included in the results for the fourth quarter were two adjusting items, which collectively benefited pretax earnings by  105 million\n",
       "4             Net of these adjustments, fourth quarter earnings per share were  2_82 and full year earnings performance share were  17_71"
      ]
     },
     "execution_count": 10,
     "metadata": {},
     "output_type": "execute_result"
    }
   ],
   "source": [
    "\n",
    "file_in = 'capital_one.txt'\n",
    "file_out = 'capital_one.cleaned'\n",
    "\n",
    "filex = open(file_in, 'r')\n",
    "text = filex.read()\n",
    "text = text.replace('\\n', ' ')\n",
    "text = text.replace('$', ' ')\n",
    "text = text.replace('\\t', ' ')\n",
    "import re\n",
    "text = re.sub(r'\\b\\.\\b', '_', text)\n",
    "tokens = text.split(\".\")\n",
    "keep_tokens = []\n",
    "for t in tokens:\n",
    "    if len(t)>4:\n",
    "        keep_tokens.append(t)\n",
    "tokens = keep_tokens\n",
    "\n",
    "target_data = {\"snippets\":tokens}\n",
    "target_data = pd.DataFrame(target_data)\n",
    "target_data['snippets']=target_data['snippets'].str.replace('\\n','',regex=True)\n",
    "tgt = target_data\n",
    "target_data.head()\n"
   ]
  },
  {
   "cell_type": "code",
   "execution_count": 11,
   "id": "e4a408b0",
   "metadata": {},
   "outputs": [],
   "source": [
    "dataset = target_data\n",
    "\n",
    "vectorizer.fit(dataset['snippets'])\n",
    "tokenized_data = vectorizer.transform(target_data['snippets']).toarray()"
   ]
  },
  {
   "cell_type": "code",
   "execution_count": 12,
   "id": "61969d45",
   "metadata": {},
   "outputs": [],
   "source": [
    "#transform(target_data['snippets']).toarray()\n",
    "y_pred = rf.predict(tokenized_data)"
   ]
  },
  {
   "cell_type": "code",
   "execution_count": 13,
   "id": "e0a8c2a4",
   "metadata": {},
   "outputs": [
    {
     "data": {
      "text/plain": [
       "Text(0.5, 0, 'snippets')"
      ]
     },
     "execution_count": 13,
     "metadata": {},
     "output_type": "execute_result"
    },
    {
     "data": {
      "image/png": "[encoded data removed]",
      "text/plain": [
       "<Figure size 432x288 with 1 Axes>"
      ]
     },
     "metadata": {
      "needs_background": "light"
     },
     "output_type": "display_data"
    }
   ],
   "source": [
    "import seaborn as sns\n",
    "sns.countplot(x=pd.DataFrame(y_pred)[0])\n",
    "plt.xticks([0,1],['not guidance','guidance'])\n",
    "plt.xlabel('snippets')"
   ]
  },
  {
   "cell_type": "code",
   "execution_count": 15,
   "id": "02b4da86",
   "metadata": {},
   "outputs": [
    {
     "data": {
      "text/html": [
       "<div>\n",
       "<style scoped>\n",
       "    .dataframe tbody tr th:only-of-type {\n",
       "        vertical-align: middle;\n",
       "    }\n",
       "\n",
       "    .dataframe tbody tr th {\n",
       "        vertical-align: top;\n",
       "    }\n",
       "\n",
       "    .dataframe thead th {\n",
       "        text-align: right;\n",
       "    }\n",
       "</style>\n",
       "<table border=\"1\" class=\"dataframe\">\n",
       "  <thead>\n",
       "    <tr style=\"text-align: right;\">\n",
       "      <th></th>\n",
       "      <th>snippets</th>\n",
       "      <th>probability</th>\n",
       "    </tr>\n",
       "  </thead>\n",
       "  <tbody>\n",
       "    <tr>\n",
       "      <th>95</th>\n",
       "      <td>We’re focusing on efficiency improvement and we’re managing capital prudently</td>\n",
       "      <td>0.979117</td>\n",
       "    </tr>\n",
       "    <tr>\n",
       "      <th>57</th>\n",
       "      <td>We’re keeping a close eye on competitor actions and potential marketplace risks</td>\n",
       "      <td>0.960224</td>\n",
       "    </tr>\n",
       "    <tr>\n",
       "      <th>38</th>\n",
       "      <td>We continue to estimate that our longer term CET1 capital need is around 11%</td>\n",
       "      <td>0.944722</td>\n",
       "    </tr>\n",
       "    <tr>\n",
       "      <th>28</th>\n",
       "      <td>Total liquidity reserves increased by  14 billion to  107 billion</td>\n",
       "      <td>0.933625</td>\n",
       "    </tr>\n",
       "    <tr>\n",
       "      <th>14</th>\n",
       "      <td>Three things put upward pressure on our card allowance</td>\n",
       "      <td>0.913739</td>\n",
       "    </tr>\n",
       "    <tr>\n",
       "      <th>...</th>\n",
       "      <td>...</td>\n",
       "      <td>...</td>\n",
       "    </tr>\n",
       "    <tr>\n",
       "      <th>90</th>\n",
       "      <td>Our annual operating efficiency ratio for full year 2022 was 44_5% net of adjustments, a 15 basis points improvement from full year 2021</td>\n",
       "      <td>0.027426</td>\n",
       "    </tr>\n",
       "    <tr>\n",
       "      <th>49</th>\n",
       "      <td>Both the charge-off rate and the delinquency rate continued to normalize and were below pre-pandemic levels</td>\n",
       "      <td>0.023074</td>\n",
       "    </tr>\n",
       "    <tr>\n",
       "      <th>73</th>\n",
       "      <td>On a linked quarter basis, the charge-off rate was up 61 basis points, and the 30-plus delinquency rate was up 77 basis points</td>\n",
       "      <td>0.021885</td>\n",
       "    </tr>\n",
       "    <tr>\n",
       "      <th>52</th>\n",
       "      <td>On a linked quarter basis, the charge-off rate was up 102 basis points and the delinquency rate was up 46 basis points</td>\n",
       "      <td>0.021885</td>\n",
       "    </tr>\n",
       "    <tr>\n",
       "      <th>51</th>\n",
       "      <td>The 30-plus delinquency rate at quarter-end was 3_43%, 121 basis points above the prior year</td>\n",
       "      <td>0.014344</td>\n",
       "    </tr>\n",
       "  </tbody>\n",
       "</table>\n",
       "<p>97 rows × 2 columns</p>\n",
       "</div>"
      ],
      "text/plain": [
       "                                                                                                                                     snippets  \\\n",
       "95                                                              We’re focusing on efficiency improvement and we’re managing capital prudently   \n",
       "57                                                            We’re keeping a close eye on competitor actions and potential marketplace risks   \n",
       "38                                                               We continue to estimate that our longer term CET1 capital need is around 11%   \n",
       "28                                                                          Total liquidity reserves increased by  14 billion to  107 billion   \n",
       "14                                                                                     Three things put upward pressure on our card allowance   \n",
       "..                                                                                                                                        ...   \n",
       "90   Our annual operating efficiency ratio for full year 2022 was 44_5% net of adjustments, a 15 basis points improvement from full year 2021   \n",
       "49                                Both the charge-off rate and the delinquency rate continued to normalize and were below pre-pandemic levels   \n",
       "73             On a linked quarter basis, the charge-off rate was up 61 basis points, and the 30-plus delinquency rate was up 77 basis points   \n",
       "52                     On a linked quarter basis, the charge-off rate was up 102 basis points and the delinquency rate was up 46 basis points   \n",
       "51                                               The 30-plus delinquency rate at quarter-end was 3_43%, 121 basis points above the prior year   \n",
       "\n",
       "    probability  \n",
       "95     0.979117  \n",
       "57     0.960224  \n",
       "38     0.944722  \n",
       "28     0.933625  \n",
       "14     0.913739  \n",
       "..          ...  \n",
       "90     0.027426  \n",
       "49     0.023074  \n",
       "73     0.021885  \n",
       "52     0.021885  \n",
       "51     0.014344  \n",
       "\n",
       "[97 rows x 2 columns]"
      ]
     },
     "execution_count": 15,
     "metadata": {},
     "output_type": "execute_result"
    }
   ],
   "source": [
    "\n",
    "y_pred = lr.predict_proba(tokenized_data)\n",
    "tgt['probability'] = pd.DataFrame(y_pred)[[1]]\n",
    "tgt.sort_values('probability',ascending=False)"
   ]
  },
  {
   "cell_type": "code",
   "execution_count": null,
   "id": "024f8bf6",
   "metadata": {},
   "outputs": [],
   "source": []
  }
 ],
 "metadata": {
  "kernelspec": {
   "display_name": "Python 3 (ipykernel)",
   "language": "python",
   "name": "python3"
  },
  "language_info": {
   "codemirror_mode": {
    "name": "ipython",
    "version": 3
   },
   "file_extension": ".py",
   "mimetype": "text/x-python",
   "name": "python",
   "nbconvert_exporter": "python",
   "pygments_lexer": "ipython3",
   "version": "3.10.2"
  }
 },
 "nbformat": 4,
 "nbformat_minor": 5
}
